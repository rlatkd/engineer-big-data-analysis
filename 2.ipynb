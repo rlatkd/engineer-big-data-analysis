{
 "cells": [
  {
   "cell_type": "markdown",
   "id": "0e43a265",
   "metadata": {},
   "source": [
    "| 구분 기준               | 분류 문제 (Classification)              | 회귀 문제 (Regression)             |\n",
    "| ------------------- | ----------------------------------- | ------------------------------ |\n",
    "| 🎯 **Target (예측값)** | 문자열 또는 정수형 클래스 (A, B, 1, 2 등)       | 연속적인 숫자 (예: 가격, 수량, 점수 등)      |\n",
    "| 📊 **평가지표**         | `f1_macro`, `accuracy`, `roc_auc` 등 | `RMSE`, `MAE`, `MSE`, `R²` 등   |\n",
    "| 📝 **문제 설명**        | “고객 유형 분류”, “이탈 여부 예측”, “등급 분류” 등   | “가격 예측”, “점수 예측”, “수요량 예측” 등   |\n",
    "| 🧾 **target 컬럼값**   | 범주형 (A, B, C / 0, 1, 2...)          | 실수(float) 또는 정수(int)지만 값 범위가 큼 |\n"
   ]
  },
  {
   "cell_type": "code",
   "execution_count": null,
   "id": "dce051d8",
   "metadata": {},
   "outputs": [],
   "source": [
    "import pandas as pd\n",
    "from sklearn.model_selection import train_test_split\n",
    "from sklearn.ensemble import RandomForestClassifier # 분류\n",
    "from sklearn.ensemble import RandomForestRegressor # 회귀\n",
    "\n",
    "# 데이터 불러오기\n",
    "train = pd.read_csv(\"train.csv\")\n",
    "test = pd.read_csv(\"test.csv\")\n",
    "\n",
    "# 전처리\n",
    "train = pd.get_dummies(train)\n",
    "test = pd.get_dummies(test)\n",
    "\n",
    "# 타겟 분리\n",
    "target = train.pop('Target')\n",
    "\n",
    "# 학습/검증 분리\n",
    "X_tr, X_val, y_tr, y_val = train_test_split(train, target, test_size=0.2, random_state=0)\n",
    "\n",
    "# 모델 학습\n",
    "model = RandomForestClassifier(random_state=0) # 분류\n",
    "model = RandomForestRegressor(random_state=0) # 회귀\n",
    "model.fit(X_tr, y_tr)\n",
    "\n",
    "# 예측\n",
    "pred = model.predict(test) # 일반적인 경우\n",
    "pred = model.predict_proba(test)[:,1] # (주의!) 분류-이진분류: 평가지표-roc_auc, 제출-확률값\n",
    "\n",
    "\n",
    "# 제출\n",
    "pd.DataFrame({ 'pred': pred }).to_csv(\"result.csv\", index=False)"
   ]
  }
 ],
 "metadata": {
  "kernelspec": {
   "display_name": ".venv",
   "language": "python",
   "name": "python3"
  },
  "language_info": {
   "codemirror_mode": {
    "name": "ipython",
    "version": 3
   },
   "file_extension": ".py",
   "mimetype": "text/x-python",
   "name": "python",
   "nbconvert_exporter": "python",
   "pygments_lexer": "ipython3",
   "version": "3.13.3"
  }
 },
 "nbformat": 4,
 "nbformat_minor": 5
}
