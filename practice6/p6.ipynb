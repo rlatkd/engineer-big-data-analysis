{
 "cells": [
  {
   "cell_type": "code",
   "execution_count": null,
   "id": "b635c30f",
   "metadata": {},
   "outputs": [],
   "source": [
    "import pandas as pd\n",
    "\n",
    "df = pd.read_csv(\"mtcars.csv\")\n",
    "\n",
    "# qsec컬럼 Min-Max Scaling 변환 후 0.5보다 큰 값을 가지는 레코드(row) 수\n",
    "\n",
    "# 1) MinMaxScaler\n",
    "from sklearn.preprocessing import MinMaxScaler\n",
    "scaler = MinMaxScaler()\n",
    "df['qsec'] = scaler.fit_transform(df[['qsec']]) # DataFrame으로\n",
    "\n",
    "# 2) minmax_scale\n",
    "from sklearn.preprocessing import minmax_scale\n",
    "df['qsec'] = minmax_scale(df['qsec'])\n",
    "\n",
    "# 3) min-max func\n",
    "def min_max(data):\n",
    "\tdata = (data-min(data)) / (max(data)-min(data))\n",
    "\treturn data\n",
    "df['qsec'] = min_max(df['qsec'])\n",
    "\n",
    "# 결과\n",
    "cond = df['qsec'] > 0.5\n",
    "print(sum(cond)) # 0.5보다 큰 값 개수 ; 9\n",
    "\n",
    "# len: 행의 수\n",
    "# count: NaN이 아닌 (컬럼별) 행의 수\n",
    "# sum: True(1)값을 더했기 때문에 조건문에 따라 달라짐"
   ]
  }
 ],
 "metadata": {
  "language_info": {
   "name": "python"
  }
 },
 "nbformat": 4,
 "nbformat_minor": 5
}
