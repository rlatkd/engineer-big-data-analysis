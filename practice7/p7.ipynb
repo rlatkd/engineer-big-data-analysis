{
 "cells": [
  {
   "cell_type": "code",
   "execution_count": null,
   "id": "a54173f0",
   "metadata": {},
   "outputs": [],
   "source": [
    "# ROC-AUC -> 확률값을 예측 predict_proba()\n",
    "# ROC-AUC -> 양성 클래스 -> 남자(1)\n",
    "# 분류 (이진분류)\n",
    "\n",
    "import pandas as pd\n",
    "\n",
    "train = pd.read_csv(\"data/customer_train.csv\")\n",
    "test = pd.read_csv(\"data/customer_test.csv\")\n",
    "\n",
    "# EDA\n",
    "pd.set_option('display.max_columns', None)\n",
    "print(train.shape, test.shape) # (3580,11), (2482,10)\n",
    "\n",
    "# 결측치 확인\n",
    "print(train.isnull().sum())\n",
    "print(test.isnull().sum())\n",
    "\n",
    "# 전처리\n",
    "train['환불금액'] = train['환불금액'].fillna(0)\n",
    "test['환불금액'] = test['환불금액'].fillna(0)\n",
    "\n",
    "cols = ['회원ID', '총구매액', '최대구매액', '환불금액', '방문일수', '방문당구매건수', '주말방문비율', '구매주기']\n",
    "target = train.pop('성별')\n",
    "\n",
    "# 모델 학습\n",
    "from sklearn.ensemble import RandomForestClassifier\n",
    "model = RandomForestClassifier()\n",
    "model.fit(train[cols], target)\n",
    "pred_proba = model.predict_proba(test[cols])\n",
    "pred = pred_proba[:,1]\n",
    "\n",
    "result = pd.DataFrame({\n",
    "\t'pred': pred\n",
    "})\n",
    "\n",
    "result.to_csv('/result.csv', index=False)"
   ]
  }
 ],
 "metadata": {
  "language_info": {
   "name": "python"
  }
 },
 "nbformat": 4,
 "nbformat_minor": 5
}
