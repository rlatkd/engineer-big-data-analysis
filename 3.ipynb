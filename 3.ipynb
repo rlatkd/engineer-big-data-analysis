{
 "cells": [
  {
   "cell_type": "markdown",
   "id": "82b705b6",
   "metadata": {},
   "source": [
    "## 문제1. 다중 선형 회귀\n",
    "- 주어진 데이터에서 id를 기준으로 다음과 같이 데이터를 분할하여 아래 소문제를 해결한다.\n",
    "- train 데이터: 1 ≤ id ≤ 140\n",
    "- test 데이터: id > 140"
   ]
  },
  {
   "cell_type": "markdown",
   "id": "e36ffdb4",
   "metadata": {},
   "source": [
    "### 문제1-1\n",
    "- train 데이터에서 c1, c2, c3, c4, c5를 독립변수로, design을 종속변수로 하는 다중 회귀모형을 적합한 후, 절편을 제외한 독립변수 중 p-value가 0.05보다 작은 변수의 개수를 구하시오."
   ]
  },
  {
   "cell_type": "code",
   "execution_count": null,
   "id": "c19e932e",
   "metadata": {},
   "outputs": [
    {
     "data": {
      "text/plain": [
       "c1     True\n",
       "c2     True\n",
       "c3    False\n",
       "c4     True\n",
       "c5    False\n",
       "dtype: bool"
      ]
     },
     "execution_count": 23,
     "metadata": {},
     "output_type": "execute_result"
    }
   ],
   "source": [
    "import pandas as pd\n",
    "df = pd.read_csv(\"https://raw.githubusercontent.com/lovedlim/inf/refs/heads/main/p4/9_3/design.csv\")\n",
    "df.head()\n",
    "\n",
    "cond1 = df['id'] <= 140\n",
    "cond2 = df['id'] > 140\n",
    "\n",
    "train = df[cond1].copy()\n",
    "test = df[cond2].copy()\n",
    "\n",
    "formula = 'design ~ c1 + c2 + c3 + c4 + c5'\n",
    "\n",
    "from statsmodels.formula.api import ols\n",
    "model = ols(formula, data=train).fit()\n",
    "\n",
    "model.summary() # 절편(Intercept) 존재\n",
    "model.pvalues[1:] < 0.05 # c1, c2, c4\n",
    "sum(model.pvalues[1:] < 0.05) # intercept 제외하고 p-value가 0.05보다 작은 값들의 합"
   ]
  },
  {
   "cell_type": "markdown",
   "id": "177ae9a1",
   "metadata": {},
   "source": [
    "### 문제1-2\n",
    "- 문제 1-1에서 적합한 회귀모형의 결과를 바탕으로, p-value가 0.05 이하인 유의한 독립변수만을 선택하여 새로운 다중 회귀모형을 적합한 후, train 데이터에서 design의 예측값을 산출하고 예측값과 실제 design 값 사이의 피어슨 상관계수를 반올림하여 소수 셋째 자리까지 계산하시오."
   ]
  },
  {
   "cell_type": "code",
   "execution_count": 31,
   "id": "0001ddd4",
   "metadata": {},
   "outputs": [
    {
     "data": {
      "text/plain": [
       "np.float64(0.49)"
      ]
     },
     "execution_count": 31,
     "metadata": {},
     "output_type": "execute_result"
    }
   ],
   "source": [
    "formula_new = 'design ~ c1 + c2 + c4'\n",
    "model_new = ols(formula_new, data=test).fit()\n",
    "pred = model_new.predict(train)\n",
    "round(train['design'].corr(pred),3)\n"
   ]
  }
 ],
 "metadata": {
  "kernelspec": {
   "display_name": ".venv",
   "language": "python",
   "name": "python3"
  },
  "language_info": {
   "codemirror_mode": {
    "name": "ipython",
    "version": 3
   },
   "file_extension": ".py",
   "mimetype": "text/x-python",
   "name": "python",
   "nbconvert_exporter": "python",
   "pygments_lexer": "ipython3",
   "version": "3.13.3"
  }
 },
 "nbformat": 4,
 "nbformat_minor": 5
}
