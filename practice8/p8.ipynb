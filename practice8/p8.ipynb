{
 "cells": [
  {
   "cell_type": "markdown",
   "id": "b5c4f719",
   "metadata": {},
   "source": [
    "## 문제1\n",
    "- 주어진 데이터셋(members.csv)의 'views' 컬럼 상위 10개 데이터를 상위 10번째 값으로 대체한 후 'age'컬럼에서 80 이상인 데이터의 'views' 컬럼 평균값 구하기"
   ]
  },
  {
   "cell_type": "code",
   "execution_count": 53,
   "id": "261b264b",
   "metadata": {},
   "outputs": [
    {
     "name": "stdout",
     "output_type": "stream",
     "text": [
      "5674.04347826087\n"
     ]
    }
   ],
   "source": [
    "import pandas as pd\n",
    "\n",
    "df = pd.read_csv('./p8.csv')\n",
    "\n",
    "# 내림차순 정렬\n",
    "df = df.sort_values('views', ascending=False)\n",
    "\n",
    "# 상위 10번째 값\n",
    "min_val = df['views'].head(10).min() # 내림차순 정렬한거 10개 뽑아서 최솟값\n",
    "\n",
    "# 상위 10개를 10번째 값으로 대체\n",
    "df.iloc[:10,-1] = min_val # 처음부터 10개 행, 마지막열\n",
    "df.head(12)\n",
    "\n",
    "# age 컬럼이 80이상인 조건\n",
    "cond = df['age'] >= 80\n",
    "\n",
    "# 조건에 맞는 데이터의 views 컬럼 평균값\n",
    "print(df[cond]['views'].mean()) # 5674.04347826087"
   ]
  },
  {
   "cell_type": "markdown",
   "id": "df9cf056",
   "metadata": {},
   "source": [
    "## 문제2\n",
    "- 주어진 데이터셋(members.csv)의 앞에서부터 순서대로 80% 데이터만 활용해 'f1'컬럼 결측치를 중앙값으로 채우기 전 후의 표준편차를 구하고, 두 표준편차 차이 계산하기 (단, 표본표준편차 기준, 두 표준편차 차이는 절대값으로 계산)"
   ]
  },
  {
   "cell_type": "code",
   "execution_count": 54,
   "id": "89564090",
   "metadata": {},
   "outputs": [
    {
     "name": "stdout",
     "output_type": "stream",
     "text": [
      "3.564064430008667\n"
     ]
    }
   ],
   "source": [
    "import pandas as pd\n",
    "\n",
    "df = pd.read_csv('./p8.csv')\n",
    "\n",
    "# 앞에서 80퍼 데이터 가져오기\n",
    "line = int(len(df) * 0.8) # 전체 데이터의 80퍼 개수 (100개니까 80개)\n",
    "df = df.iloc[:line] # 처음부터 80퍼까지 데이터 (인덱스는 0~79)\n",
    "\n",
    "# 전 표준편차\n",
    "std_before = df['f1'].std()\n",
    "\n",
    "# f1 컬럼 중앙값\n",
    "med = df['f1'].median()\n",
    "\n",
    "# f1 컬럼 결측치 중앙값으로 대체\n",
    "df['f1'] = df['f1'].fillna(med)\n",
    "\n",
    "# 후 표준편차\n",
    "std_after = df['f1'].std()\n",
    "\n",
    "# 둘의 차이\n",
    "print(abs(std_before - std_after)) # 절댓값추가, 3.564064430008667"
   ]
  },
  {
   "cell_type": "markdown",
   "id": "e5f2cc4a",
   "metadata": {},
   "source": [
    "## 심화학습\n",
    "- 모 표준편차(numpy) vs 표본 표준편차(pandas)"
   ]
  },
  {
   "cell_type": "code",
   "execution_count": 55,
   "id": "d0d38615",
   "metadata": {},
   "outputs": [
    {
     "name": "stdout",
     "output_type": "stream",
     "text": [
      "모 :  16.90413688272785\n",
      "모->표본 :  17.010788646613268\n",
      "표본 :  17.010788646613268\n",
      "표본->모 :  16.90413688272785\n"
     ]
    }
   ],
   "source": [
    "# 모 표준편차 : 분모 = n\n",
    "# 표본 표준편차 : 분모 = n-1\n",
    "import numpy as np\n",
    "\n",
    "print('모 : ', np.std(df['f1']))\n",
    "print('모->표본 : ', np.std(df['f1'], ddof=1))\n",
    "print('표본 : ', df['f1'].std())\n",
    "print('표본->모 : ', df['f1'].std(ddof=0))\n",
    "\n",
    "# 웬만하면 pandas의 표준편차만 사용하는 걸 추천"
   ]
  },
  {
   "cell_type": "markdown",
   "id": "30873a8c",
   "metadata": {},
   "source": [
    "## 문제3\n",
    "- 주어진 데이터셋(members.csv)의 'age'컬럼의 이상치를 모두 더하시오!\n",
    "단, 평균으로부터 '표준편차*1.5'를 벗어나는 영역을 이상치라고 판단함"
   ]
  },
  {
   "cell_type": "code",
   "execution_count": null,
   "id": "32970aa1",
   "metadata": {},
   "outputs": [
    {
     "name": "stdout",
     "output_type": "stream",
     "text": [
      "473.5\n"
     ]
    }
   ],
   "source": [
    "import pandas as pd\n",
    "\n",
    "df = pd.read_csv('./p8.csv')\n",
    "\n",
    "# 표준편차\n",
    "std = df['age'].std() * 1.5\n",
    "\n",
    "# 평균\n",
    "mean = df['age'].mean()\n",
    "\n",
    "# 조건에 맞는 영역\n",
    "cond1 = df['age'] < (mean - std)\n",
    "cond2 = df['age'] > (mean + std)\n",
    "cond = cond1 | cond2\n",
    "print(df[cond]['age'].sum()) # 473.5"
   ]
  }
 ],
 "metadata": {
  "kernelspec": {
   "display_name": ".venv",
   "language": "python",
   "name": "python3"
  },
  "language_info": {
   "codemirror_mode": {
    "name": "ipython",
    "version": 3
   },
   "file_extension": ".py",
   "mimetype": "text/x-python",
   "name": "python",
   "nbconvert_exporter": "python",
   "pygments_lexer": "ipython3",
   "version": "3.13.3"
  }
 },
 "nbformat": 4,
 "nbformat_minor": 5
}
