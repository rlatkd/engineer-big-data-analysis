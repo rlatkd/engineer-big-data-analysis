{
 "cells": [
  {
   "cell_type": "code",
   "execution_count": null,
   "id": "5ceb654c",
   "metadata": {},
   "outputs": [],
   "source": [
    "import pandas as pd\n",
    "\n",
    "df = pd.read_csv(\"data/blood_pressure.csv\", header=TRUE)\n",
    "\n",
    "# 1) 표본평균\n",
    "df['diff'] = df['bp_after'] - df['bp_before']\n",
    "print(round(df['diff'].mean(),2)) # -5.09\n",
    "\n",
    "# 2) 검정통계량\n",
    "from scipy import stats\n",
    "result = stats.ttest_rel(df['bp_after'], df['bp_before'], alternative='less') # > greater / < less / != two-sided\n",
    "print(round(result.statistic,2)) # -3.34\n",
    "\n",
    "# 3) p-value\n",
    "print(round(result.pvalue,4)) # 0.0006\n",
    "# 0.05보다 작으므로 귀무가설을 기각\n",
    "# -> 대립가설"
   ]
  }
 ],
 "metadata": {
  "language_info": {
   "name": "python"
  }
 },
 "nbformat": 4,
 "nbformat_minor": 5
}
