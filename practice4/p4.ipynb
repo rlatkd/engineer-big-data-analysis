{
 "cells": [
  {
   "cell_type": "code",
   "execution_count": null,
   "id": "d2d441e6",
   "metadata": {},
   "outputs": [],
   "source": [
    "import pandas as pd\n",
    "\n",
    "df = pd.read_csv(\"data/Titanic.csv\")\n",
    "\n",
    "# 1) 카이제곱 통계량\n",
    "crosstab = pd.crosstab(df['Gender'], df['Survived']) # 두 변수 간의 크로스탭\n",
    "from scipy.stats import chi2_contingency\n",
    "result = chi2_contingency(crosstab) # 카이제곱 통계량\n",
    "print(round(result,3)) # 260.717\n",
    "\n",
    "# 2) 로지스틱 회귀\n",
    "from statsmodels.formula.api import logit\n",
    "model = logit('Survived ~ C(Gender) + SibSp + Parch + Fare', data=df).fit()\n",
    "print(round(model.params['Parch'],3)) # -0.201\n",
    "\n",
    "# 3) Odds비 = 발생할 확률 / 발생하지 않을 확률\n",
    "import numpy as np\n",
    "exp = np.exp(model.params['Sibsp'])\n",
    "print(round(exp,3)) # 0.702"
   ]
  }
 ],
 "metadata": {
  "language_info": {
   "name": "python"
  }
 },
 "nbformat": 4,
 "nbformat_minor": 5
}
