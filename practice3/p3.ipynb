{
 "cells": [
  {
   "cell_type": "markdown",
   "id": "1af8cde3",
   "metadata": {},
   "source": [
    "# (체험) 제3유형 (풀이용)\n",
    "\n",
    "**유형: 프로그래밍**\n",
    "\n",
    "---\n",
    "\n",
    "## 문제 설명\n",
    "\n",
    "제공된 데이터(bcc.csv)는 암 환자와 정상인의 리지스틴 수치에 대한 자료이며, 두 집단의 로그 리지스틴 값에 차이가 있는지를 검정하려고 한다. 소문항별로 답을 구한 후, 구한 답을 제시된 [제출 형식]에 맞춰 답안 제출 페이지에 입력하시오. (단, 모델은 절편항을 포함한다.)\n",
    "\n",
    "---\n",
    "\n",
    "## 제공 데이터\n",
    "\n",
    "- **Resistin**: 리지스틴 수치(ng/mL)\n",
    "- **Classification**: 실험자 정보[1: 정상, 2: 환자]\n",
    "\n",
    "---\n",
    "\n",
    "## 문제\n",
    "\n",
    "① 두 집단의 로그 리지스틴 값의 분산에 차이가 있는지를 알아보기 위해 F-검정을 수행할 때 검정통계량의 값을 구하여라. (단, 분자의 자유도가 분모의 자유도보다 크도록 하여라.)\n",
    "\n",
    "⇒ **[제출 형식]** 반올림하여 소수 셋째 자리까지 작성\n",
    "\n",
    "---\n",
    "\n",
    "② 두 집단의 로그 리지스틴 값에 대한 합동 분산 추정량을 구하여라.\n",
    "\n",
    "⇒ **[제출 형식]** 반올림하여 소수 셋째 자리까지 작성\n",
    "\n",
    "---\n",
    "\n",
    "③ ②번 문제에서 구한 합동 분산 추정량을 이용하여 두 집단의 로그 리지스틴 값에 유의미한 차이가 있는지 독립표본 t-검정을 수행하고 p-값을 구하여라.\n",
    "\n",
    "⇒ **[제출 형식]** 반올림하여 소수 셋째 자리까지 작성"
   ]
  },
  {
   "cell_type": "code",
   "execution_count": null,
   "id": "ead7e161",
   "metadata": {
    "vscode": {
     "languageId": "plaintext"
    }
   },
   "outputs": [],
   "source": [
    "import pandas as pd\n",
    "\n",
    "df = pd.read_csv(\"data/bcc.csv\")\n",
    "\n",
    "# 1) F-검정\n",
    "import numpy as np\n",
    "df['Resistin'] = np.log(df['Resistin']) # 로그 리지스틴 값\n",
    "cond1 = df['Classification'] == 1 # 정상\n",
    "cond2 = df['Classification'] == 2 # 환자\n",
    "var1 = df[cond1]['Resistin'].var() # 분산 0.3765806078045612\n",
    "var2 = df[cond2]['Resistin'].var() # 분산 0.5076144576565117\n",
    "# 자유도 = 샘플 수 - 1; 분산이 큰 게 자유도가 높음\n",
    "print(len(df[cond1])) # 52\n",
    "print(len(df[cond2])) # 64\n",
    "result = var2 / var1 # 검정통계랑\n",
    "print(round(result,3)) # 1.348\n",
    "\n",
    "# 2) 합동 분산(공통 분산): 두 분산이 다르기 때문에 합침(가중평균으로)\n",
    "# 합동 분산: ((자유도1*분산1) + (자유도2*분산2)) / (자유도1+자유도2)\n",
    "n1 = sum(cond1) - 1 # 자유도1\n",
    "n2 = sum(cond2) - 1 # 자유도2\n",
    "result = (n1*var1+n2*var2) / (n1+n2) # 0.448994051143797\n",
    "print(round(result,3)) # 0.449\n",
    "\n",
    "# 3) t-검정\n",
    "from scipy import stats\n",
    "result = stats.ttest_ind(df[cond1]['Resistin'], df[cond2]['Resistin'], equal_var=True).pvalue # .pvalue 잊지말기\n",
    "print(round(result,3)) # 0.003"
   ]
  }
 ],
 "metadata": {
  "language_info": {
   "name": "python"
  }
 },
 "nbformat": 4,
 "nbformat_minor": 5
}
