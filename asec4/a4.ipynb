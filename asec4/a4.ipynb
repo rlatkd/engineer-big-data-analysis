{
 "cells": [
  {
   "cell_type": "code",
   "execution_count": 12,
   "id": "6bcc40f0",
   "metadata": {},
   "outputs": [
    {
     "name": "stdout",
     "output_type": "stream",
     "text": [
      "[2 3 3 ... 2 2 4]\n",
      "   pred\n",
      "0     2\n",
      "1     3\n",
      "2     3\n",
      "3     3\n",
      "4     1\n",
      "(2154, 1)\n"
     ]
    }
   ],
   "source": [
    "# 평가: f1 macro\n",
    "# target: Segmentation\n",
    "\n",
    "import pandas as pd\n",
    "train = pd.read_csv(\"https://raw.githubusercontent.com/lovedlim/inf/refs/heads/main/p4/4_2/train.csv\")\n",
    "test = pd.read_csv(\"https://raw.githubusercontent.com/lovedlim/inf/refs/heads/main/p4/4_2/test.csv\")\n",
    "\n",
    "train.head()\n",
    "test.head()\n",
    "\n",
    "train.isnull().sum().sum()\n",
    "test.isnull().sum().sum()\n",
    "\n",
    "train = pd.get_dummies(train)\n",
    "test = pd.get_dummies(test)\n",
    "target = train.pop('Segmentation')\n",
    "\n",
    "from sklearn.model_selection import train_test_split\n",
    "X_tr, X_val, y_tr, y_val = train_test_split(train, target, test_size=0.2, random_state=0)\n",
    "\n",
    "from sklearn.ensemble import RandomForestClassifier\n",
    "model = RandomForestClassifier(random_state=0)\n",
    "model.fit(X_tr, y_tr)\n",
    "\n",
    "pred = model.predict(test)\n",
    "print(pred)\n",
    "result = pd.DataFrame({\n",
    "\t'pred': pred\n",
    "})\n",
    "result.to_csv('./result.csv', index=False)\n",
    "\n",
    "print(pd.read_csv('./result.csv').head())\n",
    "print(pd.read_csv('./result.csv').shape)"
   ]
  }
 ],
 "metadata": {
  "kernelspec": {
   "display_name": ".venv",
   "language": "python",
   "name": "python3"
  },
  "language_info": {
   "codemirror_mode": {
    "name": "ipython",
    "version": 3
   },
   "file_extension": ".py",
   "mimetype": "text/x-python",
   "name": "python",
   "nbconvert_exporter": "python",
   "pygments_lexer": "ipython3",
   "version": "3.13.3"
  }
 },
 "nbformat": 4,
 "nbformat_minor": 5
}
